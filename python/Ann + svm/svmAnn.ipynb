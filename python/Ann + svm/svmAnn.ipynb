{
 "cells": [
  {
   "cell_type": "code",
   "execution_count": 6,
   "id": "fbfc4b2c",
   "metadata": {},
   "outputs": [],
   "source": [
    "from sklearn import datasets\n",
    "from sklearn.model_selection import train_test_split\n",
    "from sklearn.svm import SVC\n",
    "from sklearn.metrics import accuracy_score\n",
    "from keras.models import Sequential\n",
    "from keras.layers import Dense\n",
    "import numpy as np\n",
    "from sklearn.preprocessing import StandardScaler\n"
   ]
  },
  {
   "cell_type": "code",
   "execution_count": 7,
   "id": "d6b16139",
   "metadata": {},
   "outputs": [],
   "source": [
    "\n",
    "# Step 1: Train the Neural Network (ANN)\n",
    "X, y = datasets.load_iris(return_X_y=True)\n",
    "X_train, X_test, y_train, y_test = train_test_split(X, y, test_size=0.2, random_state=42)\n",
    "\n",
    "ann_model = Sequential([\n",
    "    Dense(64, activation='relu', input_dim=X_train.shape[1]),\n",
    "    Dense(32, activation='relu'),\n",
    "    Dense(3, activation='softmax')\n",
    "])\n"
   ]
  },
  {
   "cell_type": "code",
   "execution_count": 8,
   "id": "f43cd05c",
   "metadata": {},
   "outputs": [
    {
     "name": "stdout",
     "output_type": "stream",
     "text": [
      "Epoch 1/50\n",
      "4/4 [==============================] - 0s 2ms/step - loss: 1.2252 - accuracy: 0.3417\n",
      "Epoch 2/50\n",
      "4/4 [==============================] - 0s 1ms/step - loss: 1.0305 - accuracy: 0.3917\n",
      "Epoch 3/50\n",
      "4/4 [==============================] - 0s 4ms/step - loss: 0.9065 - accuracy: 0.3500\n",
      "Epoch 4/50\n",
      "4/4 [==============================] - 0s 355us/step - loss: 0.8276 - accuracy: 0.6417\n",
      "Epoch 5/50\n",
      "4/4 [==============================] - 0s 4ms/step - loss: 0.7809 - accuracy: 0.6583\n",
      "Epoch 6/50\n",
      "4/4 [==============================] - 0s 0s/step - loss: 0.7436 - accuracy: 0.6583\n",
      "Epoch 7/50\n",
      "4/4 [==============================] - 0s 2ms/step - loss: 0.7144 - accuracy: 0.6583\n",
      "Epoch 8/50\n",
      "4/4 [==============================] - 0s 6ms/step - loss: 0.6816 - accuracy: 0.6583\n",
      "Epoch 9/50\n",
      "4/4 [==============================] - 0s 4ms/step - loss: 0.6531 - accuracy: 0.6583\n",
      "Epoch 10/50\n",
      "4/4 [==============================] - 0s 0s/step - loss: 0.6261 - accuracy: 0.7583\n",
      "Epoch 11/50\n",
      "4/4 [==============================] - 0s 1ms/step - loss: 0.6002 - accuracy: 0.8250\n",
      "Epoch 12/50\n",
      "4/4 [==============================] - 0s 5ms/step - loss: 0.5779 - accuracy: 0.8500\n",
      "Epoch 13/50\n",
      "4/4 [==============================] - 0s 633us/step - loss: 0.5569 - accuracy: 0.8667\n",
      "Epoch 14/50\n",
      "4/4 [==============================] - 0s 4ms/step - loss: 0.5380 - accuracy: 0.8250\n",
      "Epoch 15/50\n",
      "4/4 [==============================] - 0s 0s/step - loss: 0.5209 - accuracy: 0.8167\n",
      "Epoch 16/50\n",
      "4/4 [==============================] - 0s 0s/step - loss: 0.5054 - accuracy: 0.8167\n",
      "Epoch 17/50\n",
      "4/4 [==============================] - 0s 6ms/step - loss: 0.4906 - accuracy: 0.8500\n",
      "Epoch 18/50\n",
      "4/4 [==============================] - 0s 0s/step - loss: 0.4771 - accuracy: 0.8500\n",
      "Epoch 19/50\n",
      "4/4 [==============================] - 0s 1ms/step - loss: 0.4654 - accuracy: 0.8583\n",
      "Epoch 20/50\n",
      "4/4 [==============================] - 0s 4ms/step - loss: 0.4532 - accuracy: 0.9083\n",
      "Epoch 21/50\n",
      "4/4 [==============================] - 0s 0s/step - loss: 0.4415 - accuracy: 0.9583\n",
      "Epoch 22/50\n",
      "4/4 [==============================] - 0s 1ms/step - loss: 0.4309 - accuracy: 0.9500\n",
      "Epoch 23/50\n",
      "4/4 [==============================] - 0s 5ms/step - loss: 0.4262 - accuracy: 0.9250\n",
      "Epoch 24/50\n",
      "4/4 [==============================] - 0s 0s/step - loss: 0.4113 - accuracy: 0.9250\n",
      "Epoch 25/50\n",
      "4/4 [==============================] - 0s 0s/step - loss: 0.4010 - accuracy: 0.9500\n",
      "Epoch 26/50\n",
      "4/4 [==============================] - 0s 6ms/step - loss: 0.3925 - accuracy: 0.9583\n",
      "Epoch 27/50\n",
      "4/4 [==============================] - 0s 0s/step - loss: 0.3847 - accuracy: 0.9667\n",
      "Epoch 28/50\n",
      "4/4 [==============================] - 0s 124us/step - loss: 0.3754 - accuracy: 0.9667\n",
      "Epoch 29/50\n",
      "4/4 [==============================] - 0s 6ms/step - loss: 0.3659 - accuracy: 0.9583\n",
      "Epoch 30/50\n",
      "4/4 [==============================] - 0s 0s/step - loss: 0.3578 - accuracy: 0.9583\n",
      "Epoch 31/50\n",
      "4/4 [==============================] - 0s 0s/step - loss: 0.3492 - accuracy: 0.9667\n",
      "Epoch 32/50\n",
      "4/4 [==============================] - 0s 6ms/step - loss: 0.3419 - accuracy: 0.9750\n",
      "Epoch 33/50\n",
      "4/4 [==============================] - 0s 0s/step - loss: 0.3333 - accuracy: 0.9750\n",
      "Epoch 34/50\n",
      "4/4 [==============================] - 0s 0s/step - loss: 0.3248 - accuracy: 0.9667\n",
      "Epoch 35/50\n",
      "4/4 [==============================] - 0s 6ms/step - loss: 0.3175 - accuracy: 0.9667\n",
      "Epoch 36/50\n",
      "4/4 [==============================] - 0s 0s/step - loss: 0.3090 - accuracy: 0.9667\n",
      "Epoch 37/50\n",
      "4/4 [==============================] - 0s 362us/step - loss: 0.3016 - accuracy: 0.9667\n",
      "Epoch 38/50\n",
      "4/4 [==============================] - 0s 5ms/step - loss: 0.2942 - accuracy: 0.9667\n",
      "Epoch 39/50\n",
      "4/4 [==============================] - 0s 0s/step - loss: 0.2876 - accuracy: 0.9667\n",
      "Epoch 40/50\n",
      "4/4 [==============================] - 0s 2ms/step - loss: 0.2805 - accuracy: 0.9750\n",
      "Epoch 41/50\n",
      "4/4 [==============================] - 0s 4ms/step - loss: 0.2711 - accuracy: 0.9667\n",
      "Epoch 42/50\n",
      "4/4 [==============================] - 0s 3ms/step - loss: 0.2644 - accuracy: 0.9750\n",
      "Epoch 43/50\n",
      "4/4 [==============================] - 0s 0s/step - loss: 0.2572 - accuracy: 0.9667\n",
      "Epoch 44/50\n",
      "4/4 [==============================] - 0s 0s/step - loss: 0.2499 - accuracy: 0.9667\n",
      "Epoch 45/50\n",
      "4/4 [==============================] - 0s 7ms/step - loss: 0.2442 - accuracy: 0.9750\n",
      "Epoch 46/50\n",
      "4/4 [==============================] - 0s 6ms/step - loss: 0.2387 - accuracy: 0.9750\n",
      "Epoch 47/50\n",
      "4/4 [==============================] - 0s 4ms/step - loss: 0.2302 - accuracy: 0.9667\n",
      "Epoch 48/50\n",
      "4/4 [==============================] - 0s 0s/step - loss: 0.2236 - accuracy: 0.9750\n",
      "Epoch 49/50\n",
      "4/4 [==============================] - 0s 2ms/step - loss: 0.2197 - accuracy: 0.9750\n",
      "Epoch 50/50\n",
      "4/4 [==============================] - 0s 5ms/step - loss: 0.2154 - accuracy: 0.9750\n"
     ]
    },
    {
     "data": {
      "text/plain": [
       "<keras.src.callbacks.History at 0x1b0f46d0>"
      ]
     },
     "execution_count": 8,
     "metadata": {},
     "output_type": "execute_result"
    }
   ],
   "source": [
    "ann_model.compile(optimizer='adam', loss='sparse_categorical_crossentropy', metrics=['accuracy'])\n",
    "ann_model.fit(X_train, y_train, epochs=50, batch_size=32)"
   ]
  },
  {
   "cell_type": "code",
   "execution_count": 9,
   "id": "9547db25",
   "metadata": {},
   "outputs": [
    {
     "name": "stdout",
     "output_type": "stream",
     "text": [
      "4/4 [==============================] - 0s 2ms/step\n",
      "1/1 [==============================] - 0s 19ms/step\n"
     ]
    }
   ],
   "source": [
    "feature_extractor = Sequential(ann_model.layers[:-1])  # Remove the output layer\n",
    "ann_features_train = feature_extractor.predict(X_train)\n",
    "ann_features_test = feature_extractor.predict(X_test)"
   ]
  },
  {
   "cell_type": "code",
   "execution_count": 12,
   "id": "c6ec33f3",
   "metadata": {},
   "outputs": [],
   "source": [
    "Scaler=StandardScaler()\n",
    "train=Scaler.fit_transform(ann_features_train )\n",
    "test=Scaler.transform(ann_features_test )"
   ]
  },
  {
   "cell_type": "code",
   "execution_count": 17,
   "id": "6e028c8a",
   "metadata": {},
   "outputs": [
    {
     "data": {
      "text/html": [
       "<style>#sk-container-id-4 {color: black;}#sk-container-id-4 pre{padding: 0;}#sk-container-id-4 div.sk-toggleable {background-color: white;}#sk-container-id-4 label.sk-toggleable__label {cursor: pointer;display: block;width: 100%;margin-bottom: 0;padding: 0.3em;box-sizing: border-box;text-align: center;}#sk-container-id-4 label.sk-toggleable__label-arrow:before {content: \"▸\";float: left;margin-right: 0.25em;color: #696969;}#sk-container-id-4 label.sk-toggleable__label-arrow:hover:before {color: black;}#sk-container-id-4 div.sk-estimator:hover label.sk-toggleable__label-arrow:before {color: black;}#sk-container-id-4 div.sk-toggleable__content {max-height: 0;max-width: 0;overflow: hidden;text-align: left;background-color: #f0f8ff;}#sk-container-id-4 div.sk-toggleable__content pre {margin: 0.2em;color: black;border-radius: 0.25em;background-color: #f0f8ff;}#sk-container-id-4 input.sk-toggleable__control:checked~div.sk-toggleable__content {max-height: 200px;max-width: 100%;overflow: auto;}#sk-container-id-4 input.sk-toggleable__control:checked~label.sk-toggleable__label-arrow:before {content: \"▾\";}#sk-container-id-4 div.sk-estimator input.sk-toggleable__control:checked~label.sk-toggleable__label {background-color: #d4ebff;}#sk-container-id-4 div.sk-label input.sk-toggleable__control:checked~label.sk-toggleable__label {background-color: #d4ebff;}#sk-container-id-4 input.sk-hidden--visually {border: 0;clip: rect(1px 1px 1px 1px);clip: rect(1px, 1px, 1px, 1px);height: 1px;margin: -1px;overflow: hidden;padding: 0;position: absolute;width: 1px;}#sk-container-id-4 div.sk-estimator {font-family: monospace;background-color: #f0f8ff;border: 1px dotted black;border-radius: 0.25em;box-sizing: border-box;margin-bottom: 0.5em;}#sk-container-id-4 div.sk-estimator:hover {background-color: #d4ebff;}#sk-container-id-4 div.sk-parallel-item::after {content: \"\";width: 100%;border-bottom: 1px solid gray;flex-grow: 1;}#sk-container-id-4 div.sk-label:hover label.sk-toggleable__label {background-color: #d4ebff;}#sk-container-id-4 div.sk-serial::before {content: \"\";position: absolute;border-left: 1px solid gray;box-sizing: border-box;top: 0;bottom: 0;left: 50%;z-index: 0;}#sk-container-id-4 div.sk-serial {display: flex;flex-direction: column;align-items: center;background-color: white;padding-right: 0.2em;padding-left: 0.2em;position: relative;}#sk-container-id-4 div.sk-item {position: relative;z-index: 1;}#sk-container-id-4 div.sk-parallel {display: flex;align-items: stretch;justify-content: center;background-color: white;position: relative;}#sk-container-id-4 div.sk-item::before, #sk-container-id-4 div.sk-parallel-item::before {content: \"\";position: absolute;border-left: 1px solid gray;box-sizing: border-box;top: 0;bottom: 0;left: 50%;z-index: -1;}#sk-container-id-4 div.sk-parallel-item {display: flex;flex-direction: column;z-index: 1;position: relative;background-color: white;}#sk-container-id-4 div.sk-parallel-item:first-child::after {align-self: flex-end;width: 50%;}#sk-container-id-4 div.sk-parallel-item:last-child::after {align-self: flex-start;width: 50%;}#sk-container-id-4 div.sk-parallel-item:only-child::after {width: 0;}#sk-container-id-4 div.sk-dashed-wrapped {border: 1px dashed gray;margin: 0 0.4em 0.5em 0.4em;box-sizing: border-box;padding-bottom: 0.4em;background-color: white;}#sk-container-id-4 div.sk-label label {font-family: monospace;font-weight: bold;display: inline-block;line-height: 1.2em;}#sk-container-id-4 div.sk-label-container {text-align: center;}#sk-container-id-4 div.sk-container {/* jupyter's `normalize.less` sets `[hidden] { display: none; }` but bootstrap.min.css set `[hidden] { display: none !important; }` so we also need the `!important` here to be able to override the default hidden behavior on the sphinx rendered scikit-learn.org. See: https://github.com/scikit-learn/scikit-learn/issues/21755 */display: inline-block !important;position: relative;}#sk-container-id-4 div.sk-text-repr-fallback {display: none;}</style><div id=\"sk-container-id-4\" class=\"sk-top-container\"><div class=\"sk-text-repr-fallback\"><pre>SVC(kernel=&#x27;linear&#x27;)</pre><b>In a Jupyter environment, please rerun this cell to show the HTML representation or trust the notebook. <br />On GitHub, the HTML representation is unable to render, please try loading this page with nbviewer.org.</b></div><div class=\"sk-container\" hidden><div class=\"sk-item\"><div class=\"sk-estimator sk-toggleable\"><input class=\"sk-toggleable__control sk-hidden--visually\" id=\"sk-estimator-id-4\" type=\"checkbox\" checked><label for=\"sk-estimator-id-4\" class=\"sk-toggleable__label sk-toggleable__label-arrow\">SVC</label><div class=\"sk-toggleable__content\"><pre>SVC(kernel=&#x27;linear&#x27;)</pre></div></div></div></div></div>"
      ],
      "text/plain": [
       "SVC(kernel='linear')"
      ]
     },
     "execution_count": 17,
     "metadata": {},
     "output_type": "execute_result"
    }
   ],
   "source": [
    "svm_model = SVC(kernel='linear')\n",
    "svm_model.fit(ann_features_train, y_train)"
   ]
  },
  {
   "cell_type": "code",
   "execution_count": 18,
   "id": "673d51aa",
   "metadata": {},
   "outputs": [
    {
     "name": "stdout",
     "output_type": "stream",
     "text": [
      "1/1 [==============================] - 0s 21ms/step\n",
      "Accuracy of the combined model: 0.9666666666666667\n"
     ]
    }
   ],
   "source": [
    "svm_features_test = feature_extractor.predict(X_test)\n",
    "svm_predictions = svm_model.predict(svm_features_test)\n",
    "accuracy = accuracy_score(y_test, svm_predictions)\n",
    "print(f\"Accuracy of the combined model: {accuracy}\")"
   ]
  },
  {
   "cell_type": "code",
   "execution_count": null,
   "id": "7f8a410e",
   "metadata": {},
   "outputs": [],
   "source": []
  }
 ],
 "metadata": {
  "kernelspec": {
   "display_name": "Python 3 (ipykernel)",
   "language": "python",
   "name": "python3"
  },
  "language_info": {
   "codemirror_mode": {
    "name": "ipython",
    "version": 3
   },
   "file_extension": ".py",
   "mimetype": "text/x-python",
   "name": "python",
   "nbconvert_exporter": "python",
   "pygments_lexer": "ipython3",
   "version": "3.11.4"
  }
 },
 "nbformat": 4,
 "nbformat_minor": 5
}
